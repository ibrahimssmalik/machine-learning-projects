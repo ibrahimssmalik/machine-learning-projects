{
  "nbformat": 4,
  "nbformat_minor": 0,
  "metadata": {
    "colab": {
      "provenance": []
    },
    "kernelspec": {
      "name": "python3",
      "display_name": "Python 3"
    },
    "language_info": {
      "name": "python"
    }
  },
  "cells": [
    {
      "cell_type": "code",
      "execution_count": 16,
      "metadata": {
        "colab": {
          "base_uri": "https://localhost:8080/"
        },
        "id": "yOWS4bIsLk5K",
        "outputId": "84110ae8-bffd-47a8-bc92-22541fd4092f"
      },
      "outputs": [
        {
          "output_type": "stream",
          "name": "stdout",
          "text": [
            "Drive already mounted at /content/drive; to attempt to forcibly remount, call drive.mount(\"/content/drive\", force_remount=True).\n"
          ]
        }
      ],
      "source": [
        "from google.colab import drive\n",
        "drive.mount('/content/drive')"
      ]
    },
    {
      "cell_type": "code",
      "source": [
        "import pandas as pd\n",
        "import numpy as np\n",
        "import matplotlib.pyplot as plt"
      ],
      "metadata": {
        "id": "WZ9r9mUfNYPd"
      },
      "execution_count": 17,
      "outputs": []
    },
    {
      "cell_type": "code",
      "source": [
        "file = '/content/drive/MyDrive/pet-prediction/pet_adoption_data.csv'"
      ],
      "metadata": {
        "id": "Vk-WS2M2Md0Q"
      },
      "execution_count": 18,
      "outputs": []
    },
    {
      "cell_type": "markdown",
      "source": [
        "# Exploratory Data Analysis"
      ],
      "metadata": {
        "id": "BA64IAYKYsGi"
      }
    },
    {
      "cell_type": "code",
      "source": [
        "df = pd.read_csv(file)\n",
        "df.head()"
      ],
      "metadata": {
        "colab": {
          "base_uri": "https://localhost:8080/",
          "height": 206
        },
        "id": "NFJtGUiyM1MG",
        "outputId": "c7fea3b9-c38b-4898-fe7b-48610adf2a04"
      },
      "execution_count": 19,
      "outputs": [
        {
          "output_type": "execute_result",
          "data": {
            "text/plain": [
              "   PetID PetType             Breed  AgeMonths  Color    Size   WeightKg  \\\n",
              "0    500    Bird          Parakeet        103  Black   Large  16.357608   \n",
              "1    501  Rabbit          Labrador          8  Black  Medium  12.625582   \n",
              "2    502     Dog          Parakeet        153   Gray   Small   9.624407   \n",
              "3    503    Bird  Golden Retriever         91   Gray  Medium  20.770021   \n",
              "4    504    Bird  Golden Retriever        174   Gray  Medium   7.025923   \n",
              "\n",
              "   Vaccinated  HealthCondition  TimeInShelterDays  AdoptionFee  PreviousOwner  \\\n",
              "0           1                0                 43          335              0   \n",
              "1           0                0                 50           93              0   \n",
              "2           0                0                  3           79              0   \n",
              "3           0                0                 59           37              1   \n",
              "4           1                0                 28          407              0   \n",
              "\n",
              "   AdoptionLikelihood  \n",
              "0                   0  \n",
              "1                   1  \n",
              "2                   0  \n",
              "3                   0  \n",
              "4                   1  "
            ],
            "text/html": [
              "\n",
              "  <div id=\"df-888a6b91-4b31-4309-8d73-7e39e553d6fe\" class=\"colab-df-container\">\n",
              "    <div>\n",
              "<style scoped>\n",
              "    .dataframe tbody tr th:only-of-type {\n",
              "        vertical-align: middle;\n",
              "    }\n",
              "\n",
              "    .dataframe tbody tr th {\n",
              "        vertical-align: top;\n",
              "    }\n",
              "\n",
              "    .dataframe thead th {\n",
              "        text-align: right;\n",
              "    }\n",
              "</style>\n",
              "<table border=\"1\" class=\"dataframe\">\n",
              "  <thead>\n",
              "    <tr style=\"text-align: right;\">\n",
              "      <th></th>\n",
              "      <th>PetID</th>\n",
              "      <th>PetType</th>\n",
              "      <th>Breed</th>\n",
              "      <th>AgeMonths</th>\n",
              "      <th>Color</th>\n",
              "      <th>Size</th>\n",
              "      <th>WeightKg</th>\n",
              "      <th>Vaccinated</th>\n",
              "      <th>HealthCondition</th>\n",
              "      <th>TimeInShelterDays</th>\n",
              "      <th>AdoptionFee</th>\n",
              "      <th>PreviousOwner</th>\n",
              "      <th>AdoptionLikelihood</th>\n",
              "    </tr>\n",
              "  </thead>\n",
              "  <tbody>\n",
              "    <tr>\n",
              "      <th>0</th>\n",
              "      <td>500</td>\n",
              "      <td>Bird</td>\n",
              "      <td>Parakeet</td>\n",
              "      <td>103</td>\n",
              "      <td>Black</td>\n",
              "      <td>Large</td>\n",
              "      <td>16.357608</td>\n",
              "      <td>1</td>\n",
              "      <td>0</td>\n",
              "      <td>43</td>\n",
              "      <td>335</td>\n",
              "      <td>0</td>\n",
              "      <td>0</td>\n",
              "    </tr>\n",
              "    <tr>\n",
              "      <th>1</th>\n",
              "      <td>501</td>\n",
              "      <td>Rabbit</td>\n",
              "      <td>Labrador</td>\n",
              "      <td>8</td>\n",
              "      <td>Black</td>\n",
              "      <td>Medium</td>\n",
              "      <td>12.625582</td>\n",
              "      <td>0</td>\n",
              "      <td>0</td>\n",
              "      <td>50</td>\n",
              "      <td>93</td>\n",
              "      <td>0</td>\n",
              "      <td>1</td>\n",
              "    </tr>\n",
              "    <tr>\n",
              "      <th>2</th>\n",
              "      <td>502</td>\n",
              "      <td>Dog</td>\n",
              "      <td>Parakeet</td>\n",
              "      <td>153</td>\n",
              "      <td>Gray</td>\n",
              "      <td>Small</td>\n",
              "      <td>9.624407</td>\n",
              "      <td>0</td>\n",
              "      <td>0</td>\n",
              "      <td>3</td>\n",
              "      <td>79</td>\n",
              "      <td>0</td>\n",
              "      <td>0</td>\n",
              "    </tr>\n",
              "    <tr>\n",
              "      <th>3</th>\n",
              "      <td>503</td>\n",
              "      <td>Bird</td>\n",
              "      <td>Golden Retriever</td>\n",
              "      <td>91</td>\n",
              "      <td>Gray</td>\n",
              "      <td>Medium</td>\n",
              "      <td>20.770021</td>\n",
              "      <td>0</td>\n",
              "      <td>0</td>\n",
              "      <td>59</td>\n",
              "      <td>37</td>\n",
              "      <td>1</td>\n",
              "      <td>0</td>\n",
              "    </tr>\n",
              "    <tr>\n",
              "      <th>4</th>\n",
              "      <td>504</td>\n",
              "      <td>Bird</td>\n",
              "      <td>Golden Retriever</td>\n",
              "      <td>174</td>\n",
              "      <td>Gray</td>\n",
              "      <td>Medium</td>\n",
              "      <td>7.025923</td>\n",
              "      <td>1</td>\n",
              "      <td>0</td>\n",
              "      <td>28</td>\n",
              "      <td>407</td>\n",
              "      <td>0</td>\n",
              "      <td>1</td>\n",
              "    </tr>\n",
              "  </tbody>\n",
              "</table>\n",
              "</div>\n",
              "    <div class=\"colab-df-buttons\">\n",
              "\n",
              "  <div class=\"colab-df-container\">\n",
              "    <button class=\"colab-df-convert\" onclick=\"convertToInteractive('df-888a6b91-4b31-4309-8d73-7e39e553d6fe')\"\n",
              "            title=\"Convert this dataframe to an interactive table.\"\n",
              "            style=\"display:none;\">\n",
              "\n",
              "  <svg xmlns=\"http://www.w3.org/2000/svg\" height=\"24px\" viewBox=\"0 -960 960 960\">\n",
              "    <path d=\"M120-120v-720h720v720H120Zm60-500h600v-160H180v160Zm220 220h160v-160H400v160Zm0 220h160v-160H400v160ZM180-400h160v-160H180v160Zm440 0h160v-160H620v160ZM180-180h160v-160H180v160Zm440 0h160v-160H620v160Z\"/>\n",
              "  </svg>\n",
              "    </button>\n",
              "\n",
              "  <style>\n",
              "    .colab-df-container {\n",
              "      display:flex;\n",
              "      gap: 12px;\n",
              "    }\n",
              "\n",
              "    .colab-df-convert {\n",
              "      background-color: #E8F0FE;\n",
              "      border: none;\n",
              "      border-radius: 50%;\n",
              "      cursor: pointer;\n",
              "      display: none;\n",
              "      fill: #1967D2;\n",
              "      height: 32px;\n",
              "      padding: 0 0 0 0;\n",
              "      width: 32px;\n",
              "    }\n",
              "\n",
              "    .colab-df-convert:hover {\n",
              "      background-color: #E2EBFA;\n",
              "      box-shadow: 0px 1px 2px rgba(60, 64, 67, 0.3), 0px 1px 3px 1px rgba(60, 64, 67, 0.15);\n",
              "      fill: #174EA6;\n",
              "    }\n",
              "\n",
              "    .colab-df-buttons div {\n",
              "      margin-bottom: 4px;\n",
              "    }\n",
              "\n",
              "    [theme=dark] .colab-df-convert {\n",
              "      background-color: #3B4455;\n",
              "      fill: #D2E3FC;\n",
              "    }\n",
              "\n",
              "    [theme=dark] .colab-df-convert:hover {\n",
              "      background-color: #434B5C;\n",
              "      box-shadow: 0px 1px 3px 1px rgba(0, 0, 0, 0.15);\n",
              "      filter: drop-shadow(0px 1px 2px rgba(0, 0, 0, 0.3));\n",
              "      fill: #FFFFFF;\n",
              "    }\n",
              "  </style>\n",
              "\n",
              "    <script>\n",
              "      const buttonEl =\n",
              "        document.querySelector('#df-888a6b91-4b31-4309-8d73-7e39e553d6fe button.colab-df-convert');\n",
              "      buttonEl.style.display =\n",
              "        google.colab.kernel.accessAllowed ? 'block' : 'none';\n",
              "\n",
              "      async function convertToInteractive(key) {\n",
              "        const element = document.querySelector('#df-888a6b91-4b31-4309-8d73-7e39e553d6fe');\n",
              "        const dataTable =\n",
              "          await google.colab.kernel.invokeFunction('convertToInteractive',\n",
              "                                                    [key], {});\n",
              "        if (!dataTable) return;\n",
              "\n",
              "        const docLinkHtml = 'Like what you see? Visit the ' +\n",
              "          '<a target=\"_blank\" href=https://colab.research.google.com/notebooks/data_table.ipynb>data table notebook</a>'\n",
              "          + ' to learn more about interactive tables.';\n",
              "        element.innerHTML = '';\n",
              "        dataTable['output_type'] = 'display_data';\n",
              "        await google.colab.output.renderOutput(dataTable, element);\n",
              "        const docLink = document.createElement('div');\n",
              "        docLink.innerHTML = docLinkHtml;\n",
              "        element.appendChild(docLink);\n",
              "      }\n",
              "    </script>\n",
              "  </div>\n",
              "\n",
              "\n",
              "<div id=\"df-0a80be91-39fc-4545-b5f8-0eeb43799ac5\">\n",
              "  <button class=\"colab-df-quickchart\" onclick=\"quickchart('df-0a80be91-39fc-4545-b5f8-0eeb43799ac5')\"\n",
              "            title=\"Suggest charts\"\n",
              "            style=\"display:none;\">\n",
              "\n",
              "<svg xmlns=\"http://www.w3.org/2000/svg\" height=\"24px\"viewBox=\"0 0 24 24\"\n",
              "     width=\"24px\">\n",
              "    <g>\n",
              "        <path d=\"M19 3H5c-1.1 0-2 .9-2 2v14c0 1.1.9 2 2 2h14c1.1 0 2-.9 2-2V5c0-1.1-.9-2-2-2zM9 17H7v-7h2v7zm4 0h-2V7h2v10zm4 0h-2v-4h2v4z\"/>\n",
              "    </g>\n",
              "</svg>\n",
              "  </button>\n",
              "\n",
              "<style>\n",
              "  .colab-df-quickchart {\n",
              "      --bg-color: #E8F0FE;\n",
              "      --fill-color: #1967D2;\n",
              "      --hover-bg-color: #E2EBFA;\n",
              "      --hover-fill-color: #174EA6;\n",
              "      --disabled-fill-color: #AAA;\n",
              "      --disabled-bg-color: #DDD;\n",
              "  }\n",
              "\n",
              "  [theme=dark] .colab-df-quickchart {\n",
              "      --bg-color: #3B4455;\n",
              "      --fill-color: #D2E3FC;\n",
              "      --hover-bg-color: #434B5C;\n",
              "      --hover-fill-color: #FFFFFF;\n",
              "      --disabled-bg-color: #3B4455;\n",
              "      --disabled-fill-color: #666;\n",
              "  }\n",
              "\n",
              "  .colab-df-quickchart {\n",
              "    background-color: var(--bg-color);\n",
              "    border: none;\n",
              "    border-radius: 50%;\n",
              "    cursor: pointer;\n",
              "    display: none;\n",
              "    fill: var(--fill-color);\n",
              "    height: 32px;\n",
              "    padding: 0;\n",
              "    width: 32px;\n",
              "  }\n",
              "\n",
              "  .colab-df-quickchart:hover {\n",
              "    background-color: var(--hover-bg-color);\n",
              "    box-shadow: 0 1px 2px rgba(60, 64, 67, 0.3), 0 1px 3px 1px rgba(60, 64, 67, 0.15);\n",
              "    fill: var(--button-hover-fill-color);\n",
              "  }\n",
              "\n",
              "  .colab-df-quickchart-complete:disabled,\n",
              "  .colab-df-quickchart-complete:disabled:hover {\n",
              "    background-color: var(--disabled-bg-color);\n",
              "    fill: var(--disabled-fill-color);\n",
              "    box-shadow: none;\n",
              "  }\n",
              "\n",
              "  .colab-df-spinner {\n",
              "    border: 2px solid var(--fill-color);\n",
              "    border-color: transparent;\n",
              "    border-bottom-color: var(--fill-color);\n",
              "    animation:\n",
              "      spin 1s steps(1) infinite;\n",
              "  }\n",
              "\n",
              "  @keyframes spin {\n",
              "    0% {\n",
              "      border-color: transparent;\n",
              "      border-bottom-color: var(--fill-color);\n",
              "      border-left-color: var(--fill-color);\n",
              "    }\n",
              "    20% {\n",
              "      border-color: transparent;\n",
              "      border-left-color: var(--fill-color);\n",
              "      border-top-color: var(--fill-color);\n",
              "    }\n",
              "    30% {\n",
              "      border-color: transparent;\n",
              "      border-left-color: var(--fill-color);\n",
              "      border-top-color: var(--fill-color);\n",
              "      border-right-color: var(--fill-color);\n",
              "    }\n",
              "    40% {\n",
              "      border-color: transparent;\n",
              "      border-right-color: var(--fill-color);\n",
              "      border-top-color: var(--fill-color);\n",
              "    }\n",
              "    60% {\n",
              "      border-color: transparent;\n",
              "      border-right-color: var(--fill-color);\n",
              "    }\n",
              "    80% {\n",
              "      border-color: transparent;\n",
              "      border-right-color: var(--fill-color);\n",
              "      border-bottom-color: var(--fill-color);\n",
              "    }\n",
              "    90% {\n",
              "      border-color: transparent;\n",
              "      border-bottom-color: var(--fill-color);\n",
              "    }\n",
              "  }\n",
              "</style>\n",
              "\n",
              "  <script>\n",
              "    async function quickchart(key) {\n",
              "      const quickchartButtonEl =\n",
              "        document.querySelector('#' + key + ' button');\n",
              "      quickchartButtonEl.disabled = true;  // To prevent multiple clicks.\n",
              "      quickchartButtonEl.classList.add('colab-df-spinner');\n",
              "      try {\n",
              "        const charts = await google.colab.kernel.invokeFunction(\n",
              "            'suggestCharts', [key], {});\n",
              "      } catch (error) {\n",
              "        console.error('Error during call to suggestCharts:', error);\n",
              "      }\n",
              "      quickchartButtonEl.classList.remove('colab-df-spinner');\n",
              "      quickchartButtonEl.classList.add('colab-df-quickchart-complete');\n",
              "    }\n",
              "    (() => {\n",
              "      let quickchartButtonEl =\n",
              "        document.querySelector('#df-0a80be91-39fc-4545-b5f8-0eeb43799ac5 button');\n",
              "      quickchartButtonEl.style.display =\n",
              "        google.colab.kernel.accessAllowed ? 'block' : 'none';\n",
              "    })();\n",
              "  </script>\n",
              "</div>\n",
              "\n",
              "    </div>\n",
              "  </div>\n"
            ],
            "application/vnd.google.colaboratory.intrinsic+json": {
              "type": "dataframe",
              "variable_name": "df",
              "summary": "{\n  \"name\": \"df\",\n  \"rows\": 2007,\n  \"fields\": [\n    {\n      \"column\": \"PetID\",\n      \"properties\": {\n        \"dtype\": \"number\",\n        \"std\": 579,\n        \"min\": 500,\n        \"max\": 2506,\n        \"num_unique_values\": 2007,\n        \"samples\": [\n          2460,\n          1026,\n          893\n        ],\n        \"semantic_type\": \"\",\n        \"description\": \"\"\n      }\n    },\n    {\n      \"column\": \"PetType\",\n      \"properties\": {\n        \"dtype\": \"category\",\n        \"num_unique_values\": 4,\n        \"samples\": [\n          \"Rabbit\",\n          \"Cat\",\n          \"Bird\"\n        ],\n        \"semantic_type\": \"\",\n        \"description\": \"\"\n      }\n    },\n    {\n      \"column\": \"Breed\",\n      \"properties\": {\n        \"dtype\": \"category\",\n        \"num_unique_values\": 6,\n        \"samples\": [\n          \"Parakeet\",\n          \"Labrador\",\n          \"Siamese\"\n        ],\n        \"semantic_type\": \"\",\n        \"description\": \"\"\n      }\n    },\n    {\n      \"column\": \"AgeMonths\",\n      \"properties\": {\n        \"dtype\": \"number\",\n        \"std\": 51,\n        \"min\": 1,\n        \"max\": 179,\n        \"num_unique_values\": 179,\n        \"samples\": [\n          165,\n          147,\n          108\n        ],\n        \"semantic_type\": \"\",\n        \"description\": \"\"\n      }\n    },\n    {\n      \"column\": \"Color\",\n      \"properties\": {\n        \"dtype\": \"category\",\n        \"num_unique_values\": 5,\n        \"samples\": [\n          \"Gray\",\n          \"Orange\",\n          \"Brown\"\n        ],\n        \"semantic_type\": \"\",\n        \"description\": \"\"\n      }\n    },\n    {\n      \"column\": \"Size\",\n      \"properties\": {\n        \"dtype\": \"category\",\n        \"num_unique_values\": 3,\n        \"samples\": [\n          \"Large\",\n          \"Medium\",\n          \"Small\"\n        ],\n        \"semantic_type\": \"\",\n        \"description\": \"\"\n      }\n    },\n    {\n      \"column\": \"WeightKg\",\n      \"properties\": {\n        \"dtype\": \"number\",\n        \"std\": 8.444900629895296,\n        \"min\": 1.0393102104405163,\n        \"max\": 29.992795339442285,\n        \"num_unique_values\": 2007,\n        \"samples\": [\n          15.395568728635444,\n          27.17348259651869,\n          26.358093106333676\n        ],\n        \"semantic_type\": \"\",\n        \"description\": \"\"\n      }\n    },\n    {\n      \"column\": \"Vaccinated\",\n      \"properties\": {\n        \"dtype\": \"number\",\n        \"std\": 0,\n        \"min\": 0,\n        \"max\": 1,\n        \"num_unique_values\": 2,\n        \"samples\": [\n          0,\n          1\n        ],\n        \"semantic_type\": \"\",\n        \"description\": \"\"\n      }\n    },\n    {\n      \"column\": \"HealthCondition\",\n      \"properties\": {\n        \"dtype\": \"number\",\n        \"std\": 0,\n        \"min\": 0,\n        \"max\": 1,\n        \"num_unique_values\": 2,\n        \"samples\": [\n          1,\n          0\n        ],\n        \"semantic_type\": \"\",\n        \"description\": \"\"\n      }\n    },\n    {\n      \"column\": \"TimeInShelterDays\",\n      \"properties\": {\n        \"dtype\": \"number\",\n        \"std\": 25,\n        \"min\": 1,\n        \"max\": 89,\n        \"num_unique_values\": 89,\n        \"samples\": [\n          40,\n          36\n        ],\n        \"semantic_type\": \"\",\n        \"description\": \"\"\n      }\n    },\n    {\n      \"column\": \"AdoptionFee\",\n      \"properties\": {\n        \"dtype\": \"number\",\n        \"std\": 144,\n        \"min\": 0,\n        \"max\": 499,\n        \"num_unique_values\": 493,\n        \"samples\": [\n          283,\n          472\n        ],\n        \"semantic_type\": \"\",\n        \"description\": \"\"\n      }\n    },\n    {\n      \"column\": \"PreviousOwner\",\n      \"properties\": {\n        \"dtype\": \"number\",\n        \"std\": 0,\n        \"min\": 0,\n        \"max\": 1,\n        \"num_unique_values\": 2,\n        \"samples\": [\n          1,\n          0\n        ],\n        \"semantic_type\": \"\",\n        \"description\": \"\"\n      }\n    },\n    {\n      \"column\": \"AdoptionLikelihood\",\n      \"properties\": {\n        \"dtype\": \"number\",\n        \"std\": 0,\n        \"min\": 0,\n        \"max\": 1,\n        \"num_unique_values\": 2,\n        \"samples\": [\n          1,\n          0\n        ],\n        \"semantic_type\": \"\",\n        \"description\": \"\"\n      }\n    }\n  ]\n}"
            }
          },
          "metadata": {},
          "execution_count": 19
        }
      ]
    },
    {
      "cell_type": "code",
      "source": [
        "def get_df_info(df):\n",
        "    print(\"\\nShape of DataFrame:  \", df.shape)\n",
        "    print(\"\\nColumns in DataFrame: \", df.columns.to_list())\n",
        "    print(\"\\nData types of columns: \\n\", df.dtypes)\n",
        "\n",
        "    print(\"\\nInformation about DataFrame: \\n\")\n",
        "    df.info()\n",
        "\n",
        "    print(\"\\nNumber of unique values in each column: \\n\")\n",
        "    for col in df.columns:\n",
        "        print(f\"{col}: {df[col].nunique()}\")\n",
        "\n",
        "    print(\"\\nNumber of null values in each column: \\n\", df.isnull().sum())\n",
        "\n",
        "    print(\"\\nNumber of duplicate rows: \\n\", df.duplicated().sum())\n",
        "\n",
        "    print(\"\\nDescriptive statistics of DataFrame: \\n\", df.describe().transpose())\n",
        "\n",
        "get_df_info(df)"
      ],
      "metadata": {
        "colab": {
          "base_uri": "https://localhost:8080/"
        },
        "id": "LVCl0GLKXS1S",
        "outputId": "eb30f6f8-d4c7-412d-dd3a-fc81314df23d"
      },
      "execution_count": 20,
      "outputs": [
        {
          "output_type": "stream",
          "name": "stdout",
          "text": [
            "\n",
            "Shape of DataFrame:   (2007, 13)\n",
            "\n",
            "Columns in DataFrame:  ['PetID', 'PetType', 'Breed', 'AgeMonths', 'Color', 'Size', 'WeightKg', 'Vaccinated', 'HealthCondition', 'TimeInShelterDays', 'AdoptionFee', 'PreviousOwner', 'AdoptionLikelihood']\n",
            "\n",
            "Data types of columns: \n",
            " PetID                   int64\n",
            "PetType                object\n",
            "Breed                  object\n",
            "AgeMonths               int64\n",
            "Color                  object\n",
            "Size                   object\n",
            "WeightKg              float64\n",
            "Vaccinated              int64\n",
            "HealthCondition         int64\n",
            "TimeInShelterDays       int64\n",
            "AdoptionFee             int64\n",
            "PreviousOwner           int64\n",
            "AdoptionLikelihood      int64\n",
            "dtype: object\n",
            "\n",
            "Information about DataFrame: \n",
            "\n",
            "<class 'pandas.core.frame.DataFrame'>\n",
            "RangeIndex: 2007 entries, 0 to 2006\n",
            "Data columns (total 13 columns):\n",
            " #   Column              Non-Null Count  Dtype  \n",
            "---  ------              --------------  -----  \n",
            " 0   PetID               2007 non-null   int64  \n",
            " 1   PetType             2007 non-null   object \n",
            " 2   Breed               2007 non-null   object \n",
            " 3   AgeMonths           2007 non-null   int64  \n",
            " 4   Color               2007 non-null   object \n",
            " 5   Size                2007 non-null   object \n",
            " 6   WeightKg            2007 non-null   float64\n",
            " 7   Vaccinated          2007 non-null   int64  \n",
            " 8   HealthCondition     2007 non-null   int64  \n",
            " 9   TimeInShelterDays   2007 non-null   int64  \n",
            " 10  AdoptionFee         2007 non-null   int64  \n",
            " 11  PreviousOwner       2007 non-null   int64  \n",
            " 12  AdoptionLikelihood  2007 non-null   int64  \n",
            "dtypes: float64(1), int64(8), object(4)\n",
            "memory usage: 204.0+ KB\n",
            "\n",
            "Number of unique values in each column: \n",
            "\n",
            "PetID: 2007\n",
            "PetType: 4\n",
            "Breed: 6\n",
            "AgeMonths: 179\n",
            "Color: 5\n",
            "Size: 3\n",
            "WeightKg: 2007\n",
            "Vaccinated: 2\n",
            "HealthCondition: 2\n",
            "TimeInShelterDays: 89\n",
            "AdoptionFee: 493\n",
            "PreviousOwner: 2\n",
            "AdoptionLikelihood: 2\n",
            "\n",
            "Number of null values in each column: \n",
            " PetID                 0\n",
            "PetType               0\n",
            "Breed                 0\n",
            "AgeMonths             0\n",
            "Color                 0\n",
            "Size                  0\n",
            "WeightKg              0\n",
            "Vaccinated            0\n",
            "HealthCondition       0\n",
            "TimeInShelterDays     0\n",
            "AdoptionFee           0\n",
            "PreviousOwner         0\n",
            "AdoptionLikelihood    0\n",
            "dtype: int64\n",
            "\n",
            "Number of duplicate rows: \n",
            " 0\n",
            "\n",
            "Descriptive statistics of DataFrame: \n",
            "                      count         mean         std        min          25%  \\\n",
            "PetID               2007.0  1503.000000  579.515315  500.00000  1001.500000   \n",
            "AgeMonths           2007.0    92.627803   51.527384    1.00000    49.000000   \n",
            "WeightKg            2007.0    15.699563    8.444901    1.03931     8.660533   \n",
            "Vaccinated          2007.0     0.706527    0.455467    0.00000     0.000000   \n",
            "HealthCondition     2007.0     0.199801    0.399950    0.00000     0.000000   \n",
            "TimeInShelterDays   2007.0    44.818635   25.676587    1.00000    22.000000   \n",
            "AdoptionFee         2007.0   251.690583  144.552893    0.00000   129.500000   \n",
            "PreviousOwner       2007.0     0.306926    0.461333    0.00000     0.000000   \n",
            "AdoptionLikelihood  2007.0     0.338316    0.473255    0.00000     0.000000   \n",
            "\n",
            "                            50%          75%          max  \n",
            "PetID               1503.000000  2004.500000  2506.000000  \n",
            "AgeMonths             93.000000   138.000000   179.000000  \n",
            "WeightKg              15.752066    23.140205    29.992795  \n",
            "Vaccinated             1.000000     1.000000     1.000000  \n",
            "HealthCondition        0.000000     0.000000     1.000000  \n",
            "TimeInShelterDays     45.000000    67.000000    89.000000  \n",
            "AdoptionFee          250.000000   374.000000   499.000000  \n",
            "PreviousOwner          0.000000     1.000000     1.000000  \n",
            "AdoptionLikelihood     0.000000     1.000000     1.000000  \n"
          ]
        }
      ]
    },
    {
      "cell_type": "markdown",
      "source": [
        "## General Distribution Analysis"
      ],
      "metadata": {
        "id": "P8W4bql6dZeB"
      }
    },
    {
      "cell_type": "code",
      "source": [
        "# Distribution of Pet Ages\n",
        "plt.figure(figsize=(10,6))\n",
        "plt.hist(df['AgeMonths'], edgecolor='black', bins=20)\n",
        "plt.title('Distribution of Pet Ages')\n",
        "plt.xlabel('Age')\n",
        "plt.ylabel('Count')\n",
        "plt.show()"
      ],
      "metadata": {
        "colab": {
          "base_uri": "https://localhost:8080/",
          "height": 564
        },
        "id": "tNKtCIXrdYiM",
        "outputId": "e8702fba-bd20-4495-c307-1c805cb70762"
      },
      "execution_count": 25,
      "outputs": [
        {
          "output_type": "display_data",
          "data": {
            "text/plain": [
              "<Figure size 1000x600 with 1 Axes>"
            ],
            "image/png": "[encoded data removed]"
          },
          "metadata": {}
        }
      ]
    },
    {
      "cell_type": "code",
      "source": [
        "# Distribution of Pet Weights\n",
        "plt.figure(figsize=(10,6))\n",
        "plt.hist(df['WeightKg'], edgecolor='black', bins=20)\n",
        "plt.title('Distribution of Pet Weights')\n",
        "plt.xlabel('Weight')\n",
        "plt.ylabel('Count')\n",
        "plt.show()"
      ],
      "metadata": {
        "colab": {
          "base_uri": "https://localhost:8080/",
          "height": 564
        },
        "id": "IibON22Cejzh",
        "outputId": "25074e57-dc7f-4be1-9204-f8b79e8e7d53"
      },
      "execution_count": 26,
      "outputs": [
        {
          "output_type": "display_data",
          "data": {
            "text/plain": [
              "<Figure size 1000x600 with 1 Axes>"
            ],
            "image/png": "[encoded data removed]"
          },
          "metadata": {}
        }
      ]
    },
    {
      "cell_type": "markdown",
      "source": [
        "## Categorical Analysis"
      ],
      "metadata": {
        "id": "gEEN2dt2ddNT"
      }
    },
    {
      "cell_type": "code",
      "source": [
        "# Pet Type Distribution\n",
        "plt.figure(figsize=(10, 6))\n",
        "df['PetType'].value_counts().plot(kind='bar')\n",
        "plt.title('Pet Type Distribution')\n",
        "plt.xlabel('Pet Type')\n",
        "plt.ylabel('Count')\n",
        "plt.show()"
      ],
      "metadata": {
        "colab": {
          "base_uri": "https://localhost:8080/",
          "height": 595
        },
        "id": "dMLmmyJBddmw",
        "outputId": "4682fb47-2c09-4567-9e6b-51c4a8e2539e"
      },
      "execution_count": 30,
      "outputs": [
        {
          "output_type": "display_data",
          "data": {
            "text/plain": [
              "<Figure size 1000x600 with 1 Axes>"
            ],
            "image/png": "[encoded data removed]"
          },
          "metadata": {}
        }
      ]
    },
    {
      "cell_type": "code",
      "source": [
        "# Size Distribution\n",
        "plt.figure(figsize=(10, 6))\n",
        "df['Size'].value_counts().plot(kind='bar')\n",
        "plt.title('Size Distribution')\n",
        "plt.xlabel('Size')\n",
        "plt.ylabel('Count')\n",
        "plt.show()"
      ],
      "metadata": {
        "colab": {
          "base_uri": "https://localhost:8080/",
          "height": 606
        },
        "id": "BGxOZqhRg_ZX",
        "outputId": "fd74004d-3d73-402f-dec8-c60778276646"
      },
      "execution_count": 33,
      "outputs": [
        {
          "output_type": "display_data",
          "data": {
            "text/plain": [
              "<Figure size 1000x600 with 1 Axes>"
            ],
            "image/png": "[encoded data removed]"
          },
          "metadata": {}
        }
      ]
    },
    {
      "cell_type": "code",
      "source": [
        "# Adoption Likelihood\n",
        "plt.figure(figsize=(10, 6))\n",
        "df['AdoptionLikelihood'].value_counts().plot(kind='bar')\n",
        "plt.title('Adoption Likelihood')\n",
        "plt.xlabel('Adoption Likelihood')\n",
        "plt.ylabel('Count')\n",
        "plt.show()"
      ],
      "metadata": {
        "colab": {
          "base_uri": "https://localhost:8080/",
          "height": 559
        },
        "id": "0H0pmNLDhl2K",
        "outputId": "ababf46a-174c-4190-f311-0ede368edf2d"
      },
      "execution_count": 34,
      "outputs": [
        {
          "output_type": "display_data",
          "data": {
            "text/plain": [
              "<Figure size 1000x600 with 1 Axes>"
            ],
            "image/png": "[encoded data removed]"
          },
          "metadata": {}
        }
      ]
    },
    {
      "cell_type": "markdown",
      "source": [
        "# Data Preprocessing"
      ],
      "metadata": {
        "id": "mt4NK2WWY4vx"
      }
    },
    {
      "cell_type": "code",
      "source": [
        "# Dropping the 'PetID' column as unique values are not needed to be assessed in the model\n",
        "df.drop(columns=['PetID'], inplace=True)"
      ],
      "metadata": {
        "id": "_b_CVxIXZ2np"
      },
      "execution_count": 6,
      "outputs": []
    },
    {
      "cell_type": "code",
      "source": [
        "# Dividing the dataset into features (X) and target (Y)\n",
        "X = df.drop(columns=['AdoptionLikelihood'], axis=1)\n",
        "y = df['AdoptionLikelihood']"
      ],
      "metadata": {
        "id": "GlwPgq3pbkq7"
      },
      "execution_count": 7,
      "outputs": []
    },
    {
      "cell_type": "code",
      "source": [
        "# Convert the categorical columns in X to numerical values\n",
        "X = pd.get_dummies(X)"
      ],
      "metadata": {
        "id": "LW2TmKdjblYa"
      },
      "execution_count": 8,
      "outputs": []
    },
    {
      "cell_type": "code",
      "source": [
        "print(f'X shape is {X.shape}')\n",
        "print(f'y shape is {y.shape}')"
      ],
      "metadata": {
        "colab": {
          "base_uri": "https://localhost:8080/"
        },
        "id": "mvA5AgXigKGf",
        "outputId": "cae904b3-419a-476c-9964-a8ea8d4ba228"
      },
      "execution_count": 9,
      "outputs": [
        {
          "output_type": "stream",
          "name": "stdout",
          "text": [
            "X shape is (2007, 25)\n",
            "y shape is (2007,)\n"
          ]
        }
      ]
    },
    {
      "cell_type": "markdown",
      "source": [
        "# Machine Learning"
      ],
      "metadata": {
        "id": "reMeqtLqY_Dl"
      }
    },
    {
      "cell_type": "code",
      "source": [
        "!pip install scikit-learn"
      ],
      "metadata": {
        "colab": {
          "base_uri": "https://localhost:8080/"
        },
        "id": "dKTYtidkbt2P",
        "outputId": "19b6b77f-49ee-4d41-9a96-448e762f8a56"
      },
      "execution_count": 10,
      "outputs": [
        {
          "output_type": "stream",
          "name": "stdout",
          "text": [
            "Requirement already satisfied: scikit-learn in /usr/local/lib/python3.10/dist-packages (1.2.2)\n",
            "Requirement already satisfied: numpy>=1.17.3 in /usr/local/lib/python3.10/dist-packages (from scikit-learn) (1.25.2)\n",
            "Requirement already satisfied: scipy>=1.3.2 in /usr/local/lib/python3.10/dist-packages (from scikit-learn) (1.11.4)\n",
            "Requirement already satisfied: joblib>=1.1.1 in /usr/local/lib/python3.10/dist-packages (from scikit-learn) (1.4.2)\n",
            "Requirement already satisfied: threadpoolctl>=2.0.0 in /usr/local/lib/python3.10/dist-packages (from scikit-learn) (3.5.0)\n"
          ]
        }
      ]
    },
    {
      "cell_type": "code",
      "source": [
        "!pip install catboost"
      ],
      "metadata": {
        "colab": {
          "base_uri": "https://localhost:8080/"
        },
        "id": "d1VsHd6ifO4F",
        "outputId": "7f7c96be-6c44-45e6-8880-299e1dce0768"
      },
      "execution_count": 11,
      "outputs": [
        {
          "output_type": "stream",
          "name": "stdout",
          "text": [
            "Collecting catboost\n",
            "  Downloading catboost-1.2.5-cp310-cp310-manylinux2014_x86_64.whl (98.2 MB)\n",
            "\u001b[2K     \u001b[90m━━━━━━━━━━━━━━━━━━━━━━━━━━━━━━━━━━━━━━━━\u001b[0m \u001b[32m98.2/98.2 MB\u001b[0m \u001b[31m6.0 MB/s\u001b[0m eta \u001b[36m0:00:00\u001b[0m\n",
            "\u001b[?25hRequirement already satisfied: graphviz in /usr/local/lib/python3.10/dist-packages (from catboost) (0.20.3)\n",
            "Requirement already satisfied: matplotlib in /usr/local/lib/python3.10/dist-packages (from catboost) (3.7.1)\n",
            "Requirement already satisfied: numpy>=1.16.0 in /usr/local/lib/python3.10/dist-packages (from catboost) (1.25.2)\n",
            "Requirement already satisfied: pandas>=0.24 in /usr/local/lib/python3.10/dist-packages (from catboost) (2.0.3)\n",
            "Requirement already satisfied: scipy in /usr/local/lib/python3.10/dist-packages (from catboost) (1.11.4)\n",
            "Requirement already satisfied: plotly in /usr/local/lib/python3.10/dist-packages (from catboost) (5.15.0)\n",
            "Requirement already satisfied: six in /usr/local/lib/python3.10/dist-packages (from catboost) (1.16.0)\n",
            "Requirement already satisfied: python-dateutil>=2.8.2 in /usr/local/lib/python3.10/dist-packages (from pandas>=0.24->catboost) (2.8.2)\n",
            "Requirement already satisfied: pytz>=2020.1 in /usr/local/lib/python3.10/dist-packages (from pandas>=0.24->catboost) (2023.4)\n",
            "Requirement already satisfied: tzdata>=2022.1 in /usr/local/lib/python3.10/dist-packages (from pandas>=0.24->catboost) (2024.1)\n",
            "Requirement already satisfied: contourpy>=1.0.1 in /usr/local/lib/python3.10/dist-packages (from matplotlib->catboost) (1.2.1)\n",
            "Requirement already satisfied: cycler>=0.10 in /usr/local/lib/python3.10/dist-packages (from matplotlib->catboost) (0.12.1)\n",
            "Requirement already satisfied: fonttools>=4.22.0 in /usr/local/lib/python3.10/dist-packages (from matplotlib->catboost) (4.53.0)\n",
            "Requirement already satisfied: kiwisolver>=1.0.1 in /usr/local/lib/python3.10/dist-packages (from matplotlib->catboost) (1.4.5)\n",
            "Requirement already satisfied: packaging>=20.0 in /usr/local/lib/python3.10/dist-packages (from matplotlib->catboost) (24.1)\n",
            "Requirement already satisfied: pillow>=6.2.0 in /usr/local/lib/python3.10/dist-packages (from matplotlib->catboost) (9.4.0)\n",
            "Requirement already satisfied: pyparsing>=2.3.1 in /usr/local/lib/python3.10/dist-packages (from matplotlib->catboost) (3.1.2)\n",
            "Requirement already satisfied: tenacity>=6.2.0 in /usr/local/lib/python3.10/dist-packages (from plotly->catboost) (8.4.1)\n",
            "Installing collected packages: catboost\n",
            "Successfully installed catboost-1.2.5\n"
          ]
        }
      ]
    },
    {
      "cell_type": "code",
      "source": [
        "!pip install imblearn"
      ],
      "metadata": {
        "colab": {
          "base_uri": "https://localhost:8080/"
        },
        "id": "_0rpktEGgQ1P",
        "outputId": "db8ba2fb-36d7-4f51-b108-d157d5026542"
      },
      "execution_count": 12,
      "outputs": [
        {
          "output_type": "stream",
          "name": "stdout",
          "text": [
            "Collecting imblearn\n",
            "  Downloading imblearn-0.0-py2.py3-none-any.whl (1.9 kB)\n",
            "Requirement already satisfied: imbalanced-learn in /usr/local/lib/python3.10/dist-packages (from imblearn) (0.10.1)\n",
            "Requirement already satisfied: numpy>=1.17.3 in /usr/local/lib/python3.10/dist-packages (from imbalanced-learn->imblearn) (1.25.2)\n",
            "Requirement already satisfied: scipy>=1.3.2 in /usr/local/lib/python3.10/dist-packages (from imbalanced-learn->imblearn) (1.11.4)\n",
            "Requirement already satisfied: scikit-learn>=1.0.2 in /usr/local/lib/python3.10/dist-packages (from imbalanced-learn->imblearn) (1.2.2)\n",
            "Requirement already satisfied: joblib>=1.1.1 in /usr/local/lib/python3.10/dist-packages (from imbalanced-learn->imblearn) (1.4.2)\n",
            "Requirement already satisfied: threadpoolctl>=2.0.0 in /usr/local/lib/python3.10/dist-packages (from imbalanced-learn->imblearn) (3.5.0)\n",
            "Installing collected packages: imblearn\n",
            "Successfully installed imblearn-0.0\n"
          ]
        }
      ]
    },
    {
      "cell_type": "code",
      "source": [
        "from sklearn.model_selection import train_test_split\n",
        "from sklearn.metrics import accuracy_score, confusion_matrix, classification_report\n",
        "from sklearn.preprocessing import StandardScaler, LabelEncoder\n",
        "from sklearn.linear_model import LogisticRegression\n",
        "from sklearn.tree import DecisionTreeClassifier\n",
        "from sklearn.ensemble import RandomForestClassifier, ExtraTreesClassifier, AdaBoostClassifier, GradientBoostingClassifier\n",
        "from xgboost import XGBClassifier\n",
        "from sklearn.svm import SVC\n",
        "from lightgbm import LGBMClassifier\n",
        "from catboost import CatBoostClassifier\n",
        "from sklearn.multiclass import OneVsRestClassifier\n",
        "from sklearn.metrics import f1_score\n",
        "from imblearn.over_sampling import SMOTE\n",
        "from sklearn.ensemble import VotingClassifier, StackingClassifier"
      ],
      "metadata": {
        "id": "uVFjW453cbkR"
      },
      "execution_count": 13,
      "outputs": []
    },
    {
      "cell_type": "markdown",
      "source": [
        "### The function `apply_models` has several features:\n",
        "\n",
        "#### Data Preprocessing:\n",
        "\n",
        "* Splits data into training and testing sets.\n",
        "* Checks for class imbalance and applies SMOTE (oversampling) if needed.\n",
        "* Scales the features using StandardScaler.\n",
        "\n",
        "#### Model Training and Evaluation:\n",
        "\n",
        "* Defines a set of machine learning classification models.\n",
        "* Trains each model on the training data.\n",
        "* Evaluates each model on the testing data using accuracy and F1 score.\n",
        "* Prints detailed reports (accuracy, confusion matrix, classification report) for each model.\n",
        "\n",
        "#### Ensemble Learning:\n",
        "\n",
        "* Identifies the top 3 performing models based on F1 score.\n",
        "* Creates two ensemble models (Voting Classifier and Stacking Classifier) using the top 3 models.\n",
        "* Evaluates the ensemble models on the testing data using accuracy, confusion matrix, and classification report.\n",
        "* In summary, this function is designed to explore various classification models, identify the best performing ones, and potentially improve performance through ensemble learning techniques."
      ],
      "metadata": {
        "id": "pRfiQesSdnmt"
      }
    },
    {
      "cell_type": "code",
      "source": [
        "def apply_models(X,y):\n",
        "  # Split the data into training and test sets\n",
        "  X_train, X_test, y_train, y_test = train_test_split(X, y, test_size=0.2, random_state=42)\n",
        "\n",
        "  # Check for class imbalance and apply SMOTE (oversampling) if needed\n",
        "  class_counts = np.bincount(y_train)\n",
        "\n",
        "  if len(class_counts) > 2 or np.min(class_counts) / np.max(class_counts) < 0.1:\n",
        "    print('Class imbalance detected. Applying SMOTE...')\n",
        "\n",
        "  # Applying SMOTE (class imbalance)\n",
        "  smote = SMOTE(random_state=42)\n",
        "  X_train, y_train = smote.fit_resample(X_train, y_train)\n",
        "\n",
        "  # Initialize the StandardScaler\n",
        "  scaler = StandardScaler()\n",
        "\n",
        "  # Fit the scaler on the training data and transform both training and test data\n",
        "  X_train = scaler.fit_transform(X_train)\n",
        "  X_test = scaler.transform(X_test)\n",
        "\n",
        "  # Define the models\n",
        "  models = {\n",
        "    'LogisticRegression': LogisticRegression(),\n",
        "    'SVC': SVC(),\n",
        "    'DecisionTree': DecisionTreeClassifier(),\n",
        "    'RandomForest': RandomForestClassifier(),\n",
        "    'ExtraTrees': ExtraTreesClassifier(),\n",
        "    'Adaboost': AdaBoostClassifier(),\n",
        "    'GradientBoost': GradientBoostingClassifier(),\n",
        "    'XGBoost': XGBClassifier(use_label_encoder=False, eval_metric='logloss'),\n",
        "    'LightGBM': LGBMClassifier(),\n",
        "    'CatBoost': CatBoostClassifier(verbose=0)\n",
        "  }\n",
        "\n",
        "  # Initialize a dictionary to hold the performance of each model\n",
        "  model_performance = {}\n",
        "\n",
        "  # For each model\n",
        "  for model_name, model in models.items():\n",
        "    print(f\"**Classification with {model_name}\\n{'-'*30}**\")\n",
        "\n",
        "    # Fit model to training data\n",
        "    model.fit(X_train, y_train)\n",
        "\n",
        "    # Make predictions on the test data\n",
        "    y_pred = model.predict(X_test)\n",
        "\n",
        "    # Calculate Accuracy and F1 Score\n",
        "    accuracy = accuracy_score(y_test, y_pred)\n",
        "    f1 = f1_score(y_test, y_pred, average='weighted')\n",
        "\n",
        "    # Store performance in performance dictionary\n",
        "    model_performance[model_name] = (accuracy, f1)\n",
        "\n",
        "    # Print the Accuracy Score\n",
        "    print(f'**Accuracy:** {accuracy}')\n",
        "\n",
        "    # Print the Confusion Matrix\n",
        "    print(f'**Confusion Matrix:** {confusion_matrix(y_test, y_pred)}')\n",
        "\n",
        "    # Print the Classification Report\n",
        "    print(f'**Classification Report:** {classification_report(y_test, y_pred)}')\n",
        "\n",
        "    print('\\n\\n\\n')\n",
        "\n",
        "  # Sort the models based on f1 score and pick the top 3\n",
        "  top_3_models = sorted(model_performance.items(), key=lambda x: x[1][1], reverse=True)[:3]\n",
        "  print(\"\\nTop 3 Models based on F1 Score:\\n\", top_3_models)\n",
        "\n",
        "  # Extract the model names and classifiers for the top 3 models\n",
        "  top_3_model_names = [model[0] for model in top_3_models]\n",
        "  top_3_classifiers = [models[model_name] for model_name in top_3_model_names]\n",
        "\n",
        "  # Create a Voting Classifier with the top 3 models\n",
        "  print(\"\\n**Initializing Voting Classifier with top 3 models...**\\n\")\n",
        "  voting_clf = VotingClassifier(estimators=list(zip(top_3_model_names, top_3_classifiers)), voting='hard')\n",
        "  voting_clf.fit(X_train, y_train)\n",
        "  y_pred = voting_clf.predict(X_test)\n",
        "  print(\"**Voting Classifier Evaluation**\")\n",
        "  print(\"\\n**Accuracy**:\\n\", accuracy_score(y_test, y_pred))\n",
        "  print(\"\\n**Confusion Matrix**:\\n\", confusion_matrix(y_test, y_pred))\n",
        "  print(\"\\n**Classification Report**:\\n\", classification_report(y_test, y_pred))\n",
        "\n",
        "  # Create a Stacking Classifier with the top 3 models\n",
        "  print(\"\\n**Initializing Stacking Classifier with top 3 models...**\\n\")\n",
        "  stacking_clf = StackingClassifier(estimators=list(zip(top_3_model_names, top_3_classifiers)))\n",
        "  stacking_clf.fit(X_train, y_train)\n",
        "  y_pred = stacking_clf.predict(X_test)\n",
        "  print(\"**Stacking Classifier Evaluation**:\")\n",
        "  print(\"\\n**Accuracy**:\\n\", accuracy_score(y_test, y_pred))\n",
        "  print(\"\\n**Confusion Matrix**:\\n\", confusion_matrix(y_test, y_pred))\n",
        "  print(\"\\n**Classification Report**:\\n\", classification_report(y_test, y_pred))"
      ],
      "metadata": {
        "id": "6--_M-ZnetJH"
      },
      "execution_count": 14,
      "outputs": []
    },
    {
      "cell_type": "code",
      "source": [
        "# Apply the function on current dataset\n",
        "apply_models(X,y)"
      ],
      "metadata": {
        "colab": {
          "base_uri": "https://localhost:8080/"
        },
        "id": "5u4jdxsQbpkN",
        "outputId": "c566a2a6-4714-4ad3-84d8-424936c1faba"
      },
      "execution_count": 15,
      "outputs": [
        {
          "output_type": "stream",
          "name": "stdout",
          "text": [
            "**Classification with LogisticRegression\n",
            "------------------------------**\n",
            "**Accuracy:** 0.9079601990049752\n",
            "**Confusion Matrix:** [[252   7]\n",
            " [ 30 113]]\n",
            "**Classification Report:**               precision    recall  f1-score   support\n",
            "\n",
            "           0       0.89      0.97      0.93       259\n",
            "           1       0.94      0.79      0.86       143\n",
            "\n",
            "    accuracy                           0.91       402\n",
            "   macro avg       0.92      0.88      0.90       402\n",
            "weighted avg       0.91      0.91      0.91       402\n",
            "\n",
            "\n",
            "\n",
            "\n",
            "\n",
            "**Classification with SVC\n",
            "------------------------------**\n",
            "**Accuracy:** 0.9054726368159204\n",
            "**Confusion Matrix:** [[251   8]\n",
            " [ 30 113]]\n",
            "**Classification Report:**               precision    recall  f1-score   support\n",
            "\n",
            "           0       0.89      0.97      0.93       259\n",
            "           1       0.93      0.79      0.86       143\n",
            "\n",
            "    accuracy                           0.91       402\n",
            "   macro avg       0.91      0.88      0.89       402\n",
            "weighted avg       0.91      0.91      0.90       402\n",
            "\n",
            "\n",
            "\n",
            "\n",
            "\n",
            "**Classification with DecisionTree\n",
            "------------------------------**\n",
            "**Accuracy:** 0.8980099502487562\n",
            "**Confusion Matrix:** [[233  26]\n",
            " [ 15 128]]\n",
            "**Classification Report:**               precision    recall  f1-score   support\n",
            "\n",
            "           0       0.94      0.90      0.92       259\n",
            "           1       0.83      0.90      0.86       143\n",
            "\n",
            "    accuracy                           0.90       402\n",
            "   macro avg       0.89      0.90      0.89       402\n",
            "weighted avg       0.90      0.90      0.90       402\n",
            "\n",
            "\n",
            "\n",
            "\n",
            "\n",
            "**Classification with RandomForest\n",
            "------------------------------**\n",
            "**Accuracy:** 0.945273631840796\n",
            "**Confusion Matrix:** [[248  11]\n",
            " [ 11 132]]\n",
            "**Classification Report:**               precision    recall  f1-score   support\n",
            "\n",
            "           0       0.96      0.96      0.96       259\n",
            "           1       0.92      0.92      0.92       143\n",
            "\n",
            "    accuracy                           0.95       402\n",
            "   macro avg       0.94      0.94      0.94       402\n",
            "weighted avg       0.95      0.95      0.95       402\n",
            "\n",
            "\n",
            "\n",
            "\n",
            "\n",
            "**Classification with ExtraTrees\n",
            "------------------------------**\n",
            "**Accuracy:** 0.9054726368159204\n",
            "**Confusion Matrix:** [[247  12]\n",
            " [ 26 117]]\n",
            "**Classification Report:**               precision    recall  f1-score   support\n",
            "\n",
            "           0       0.90      0.95      0.93       259\n",
            "           1       0.91      0.82      0.86       143\n",
            "\n",
            "    accuracy                           0.91       402\n",
            "   macro avg       0.91      0.89      0.89       402\n",
            "weighted avg       0.91      0.91      0.90       402\n",
            "\n",
            "\n",
            "\n",
            "\n",
            "\n",
            "**Classification with Adaboost\n",
            "------------------------------**\n",
            "**Accuracy:** 0.9378109452736318\n",
            "**Confusion Matrix:** [[249  10]\n",
            " [ 15 128]]\n",
            "**Classification Report:**               precision    recall  f1-score   support\n",
            "\n",
            "           0       0.94      0.96      0.95       259\n",
            "           1       0.93      0.90      0.91       143\n",
            "\n",
            "    accuracy                           0.94       402\n",
            "   macro avg       0.94      0.93      0.93       402\n",
            "weighted avg       0.94      0.94      0.94       402\n",
            "\n",
            "\n",
            "\n",
            "\n",
            "\n",
            "**Classification with GradientBoost\n",
            "------------------------------**\n",
            "**Accuracy:** 0.9477611940298507\n",
            "**Confusion Matrix:** [[248  11]\n",
            " [ 10 133]]\n",
            "**Classification Report:**               precision    recall  f1-score   support\n",
            "\n",
            "           0       0.96      0.96      0.96       259\n",
            "           1       0.92      0.93      0.93       143\n",
            "\n",
            "    accuracy                           0.95       402\n",
            "   macro avg       0.94      0.94      0.94       402\n",
            "weighted avg       0.95      0.95      0.95       402\n",
            "\n",
            "\n",
            "\n",
            "\n",
            "\n",
            "**Classification with XGBoost\n",
            "------------------------------**\n",
            "**Accuracy:** 0.9552238805970149\n",
            "**Confusion Matrix:** [[252   7]\n",
            " [ 11 132]]\n",
            "**Classification Report:**               precision    recall  f1-score   support\n",
            "\n",
            "           0       0.96      0.97      0.97       259\n",
            "           1       0.95      0.92      0.94       143\n",
            "\n",
            "    accuracy                           0.96       402\n",
            "   macro avg       0.95      0.95      0.95       402\n",
            "weighted avg       0.96      0.96      0.96       402\n",
            "\n",
            "\n",
            "\n",
            "\n",
            "\n",
            "**Classification with LightGBM\n",
            "------------------------------**\n",
            "[LightGBM] [Info] Number of positive: 1069, number of negative: 1069\n",
            "[LightGBM] [Info] Auto-choosing row-wise multi-threading, the overhead of testing was 0.000954 seconds.\n",
            "You can set `force_row_wise=true` to remove the overhead.\n",
            "And if memory is not enough, you can set `force_col_wise=true`.\n",
            "[LightGBM] [Info] Total Bins 837\n",
            "[LightGBM] [Info] Number of data points in the train set: 2138, number of used features: 25\n",
            "[LightGBM] [Info] [binary:BoostFromScore]: pavg=0.500000 -> initscore=0.000000\n",
            "**Accuracy:** 0.9527363184079602\n",
            "**Confusion Matrix:** [[251   8]\n",
            " [ 11 132]]\n",
            "**Classification Report:**               precision    recall  f1-score   support\n",
            "\n",
            "           0       0.96      0.97      0.96       259\n",
            "           1       0.94      0.92      0.93       143\n",
            "\n",
            "    accuracy                           0.95       402\n",
            "   macro avg       0.95      0.95      0.95       402\n",
            "weighted avg       0.95      0.95      0.95       402\n",
            "\n",
            "\n",
            "\n",
            "\n",
            "\n",
            "**Classification with CatBoost\n",
            "------------------------------**\n",
            "**Accuracy:** 0.9626865671641791\n",
            "**Confusion Matrix:** [[253   6]\n",
            " [  9 134]]\n",
            "**Classification Report:**               precision    recall  f1-score   support\n",
            "\n",
            "           0       0.97      0.98      0.97       259\n",
            "           1       0.96      0.94      0.95       143\n",
            "\n",
            "    accuracy                           0.96       402\n",
            "   macro avg       0.96      0.96      0.96       402\n",
            "weighted avg       0.96      0.96      0.96       402\n",
            "\n",
            "\n",
            "\n",
            "\n",
            "\n",
            "\n",
            "Top 3 Models based on F1 Score:\n",
            " [('CatBoost', (0.9626865671641791, 0.9625962210946987)), ('XGBoost', (0.9552238805970149, 0.9550778754795355)), ('LightGBM', (0.9527363184079602, 0.9526218800532851))]\n",
            "\n",
            "**Initializing Voting Classifier with top 3 models...**\n",
            "\n",
            "[LightGBM] [Info] Number of positive: 1069, number of negative: 1069\n",
            "[LightGBM] [Info] Auto-choosing row-wise multi-threading, the overhead of testing was 0.000947 seconds.\n",
            "You can set `force_row_wise=true` to remove the overhead.\n",
            "And if memory is not enough, you can set `force_col_wise=true`.\n",
            "[LightGBM] [Info] Total Bins 837\n",
            "[LightGBM] [Info] Number of data points in the train set: 2138, number of used features: 25\n",
            "[LightGBM] [Info] [binary:BoostFromScore]: pavg=0.500000 -> initscore=0.000000\n",
            "**Voting Classifier Evaluation**\n",
            "\n",
            "**Accuracy**:\n",
            " 0.9601990049751243\n",
            "\n",
            "**Confusion Matrix**:\n",
            " [[252   7]\n",
            " [  9 134]]\n",
            "\n",
            "**Classification Report**:\n",
            "               precision    recall  f1-score   support\n",
            "\n",
            "           0       0.97      0.97      0.97       259\n",
            "           1       0.95      0.94      0.94       143\n",
            "\n",
            "    accuracy                           0.96       402\n",
            "   macro avg       0.96      0.96      0.96       402\n",
            "weighted avg       0.96      0.96      0.96       402\n",
            "\n",
            "\n",
            "**Initializing Stacking Classifier with top 3 models...**\n",
            "\n",
            "[LightGBM] [Info] Number of positive: 1069, number of negative: 1069\n",
            "[LightGBM] [Info] Auto-choosing row-wise multi-threading, the overhead of testing was 0.000921 seconds.\n",
            "You can set `force_row_wise=true` to remove the overhead.\n",
            "And if memory is not enough, you can set `force_col_wise=true`.\n",
            "[LightGBM] [Info] Total Bins 837\n",
            "[LightGBM] [Info] Number of data points in the train set: 2138, number of used features: 25\n",
            "[LightGBM] [Info] [binary:BoostFromScore]: pavg=0.500000 -> initscore=0.000000\n",
            "[LightGBM] [Info] Number of positive: 855, number of negative: 855\n",
            "[LightGBM] [Info] Auto-choosing row-wise multi-threading, the overhead of testing was 0.000673 seconds.\n",
            "You can set `force_row_wise=true` to remove the overhead.\n",
            "And if memory is not enough, you can set `force_col_wise=true`.\n",
            "[LightGBM] [Info] Total Bins 833\n",
            "[LightGBM] [Info] Number of data points in the train set: 1710, number of used features: 25\n",
            "[LightGBM] [Info] [binary:BoostFromScore]: pavg=0.500000 -> initscore=0.000000\n",
            "[LightGBM] [Info] Number of positive: 855, number of negative: 855\n",
            "[LightGBM] [Info] Auto-choosing row-wise multi-threading, the overhead of testing was 0.000656 seconds.\n",
            "You can set `force_row_wise=true` to remove the overhead.\n",
            "And if memory is not enough, you can set `force_col_wise=true`.\n",
            "[LightGBM] [Info] Total Bins 838\n",
            "[LightGBM] [Info] Number of data points in the train set: 1710, number of used features: 25\n",
            "[LightGBM] [Info] [binary:BoostFromScore]: pavg=0.500000 -> initscore=0.000000\n",
            "[LightGBM] [Info] Number of positive: 855, number of negative: 855\n",
            "[LightGBM] [Info] Auto-choosing row-wise multi-threading, the overhead of testing was 0.000641 seconds.\n",
            "You can set `force_row_wise=true` to remove the overhead.\n",
            "And if memory is not enough, you can set `force_col_wise=true`.\n",
            "[LightGBM] [Info] Total Bins 836\n",
            "[LightGBM] [Info] Number of data points in the train set: 1710, number of used features: 25\n",
            "[LightGBM] [Info] [binary:BoostFromScore]: pavg=0.500000 -> initscore=0.000000\n",
            "[LightGBM] [Info] Number of positive: 856, number of negative: 855\n",
            "[LightGBM] [Info] Auto-choosing row-wise multi-threading, the overhead of testing was 0.000671 seconds.\n",
            "You can set `force_row_wise=true` to remove the overhead.\n",
            "And if memory is not enough, you can set `force_col_wise=true`.\n",
            "[LightGBM] [Info] Total Bins 833\n",
            "[LightGBM] [Info] Number of data points in the train set: 1711, number of used features: 25\n",
            "[LightGBM] [Info] [binary:BoostFromScore]: pavg=0.500292 -> initscore=0.001169\n",
            "[LightGBM] [Info] Start training from score 0.001169\n",
            "[LightGBM] [Info] Number of positive: 855, number of negative: 856\n",
            "[LightGBM] [Info] Auto-choosing row-wise multi-threading, the overhead of testing was 0.000653 seconds.\n",
            "You can set `force_row_wise=true` to remove the overhead.\n",
            "And if memory is not enough, you can set `force_col_wise=true`.\n",
            "[LightGBM] [Info] Total Bins 838\n",
            "[LightGBM] [Info] Number of data points in the train set: 1711, number of used features: 25\n",
            "[LightGBM] [Info] [binary:BoostFromScore]: pavg=0.499708 -> initscore=-0.001169\n",
            "[LightGBM] [Info] Start training from score -0.001169\n",
            "**Stacking Classifier Evaluation**:\n",
            "\n",
            "**Accuracy**:\n",
            " 0.9626865671641791\n",
            "\n",
            "**Confusion Matrix**:\n",
            " [[253   6]\n",
            " [  9 134]]\n",
            "\n",
            "**Classification Report**:\n",
            "               precision    recall  f1-score   support\n",
            "\n",
            "           0       0.97      0.98      0.97       259\n",
            "           1       0.96      0.94      0.95       143\n",
            "\n",
            "    accuracy                           0.96       402\n",
            "   macro avg       0.96      0.96      0.96       402\n",
            "weighted avg       0.96      0.96      0.96       402\n",
            "\n"
          ]
        }
      ]
    }
  ]
}